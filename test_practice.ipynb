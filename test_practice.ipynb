{
 "cells": [
  {
   "cell_type": "code",
   "execution_count": 11,
   "id": "34fcbbf0",
   "metadata": {},
   "outputs": [],
   "source": [
    "import pandas as pd\n",
    "from datetime import datetime, timedelta"
   ]
  },
  {
   "cell_type": "code",
   "execution_count": 2,
   "id": "67603295",
   "metadata": {},
   "outputs": [],
   "source": [
    "import numpy as np"
   ]
  },
  {
   "cell_type": "code",
   "execution_count": 7,
   "id": "8fe07e2a",
   "metadata": {},
   "outputs": [],
   "source": [
    "notifications_df = pd.read_csv(\"/Users/chandermohan/Downloads/ielts_notifications.csv\")"
   ]
  },
  {
   "cell_type": "code",
   "execution_count": 8,
   "id": "62b7c3b6",
   "metadata": {},
   "outputs": [],
   "source": [
    "purchases_df = pd.read_csv(\"/Users/chandermohan/Downloads/ielts_users.csv\")"
   ]
  },
  {
   "cell_type": "code",
   "execution_count": 5,
   "id": "fc6a76ac",
   "metadata": {},
   "outputs": [
    {
     "data": {
      "text/html": [
       "<div>\n",
       "<style scoped>\n",
       "    .dataframe tbody tr th:only-of-type {\n",
       "        vertical-align: middle;\n",
       "    }\n",
       "\n",
       "    .dataframe tbody tr th {\n",
       "        vertical-align: top;\n",
       "    }\n",
       "\n",
       "    .dataframe thead th {\n",
       "        text-align: right;\n",
       "    }\n",
       "</style>\n",
       "<table border=\"1\" class=\"dataframe\">\n",
       "  <thead>\n",
       "    <tr style=\"text-align: right;\">\n",
       "      <th></th>\n",
       "      <th>id</th>\n",
       "      <th>message_mode</th>\n",
       "      <th>user_id</th>\n",
       "      <th>read_status</th>\n",
       "      <th>added_date</th>\n",
       "    </tr>\n",
       "  </thead>\n",
       "  <tbody>\n",
       "    <tr>\n",
       "      <th>0</th>\n",
       "      <td>20363</td>\n",
       "      <td>2</td>\n",
       "      <td>19578</td>\n",
       "      <td>0</td>\n",
       "      <td>1/01/2017 0:15</td>\n",
       "    </tr>\n",
       "    <tr>\n",
       "      <th>1</th>\n",
       "      <td>20368</td>\n",
       "      <td>2</td>\n",
       "      <td>19434</td>\n",
       "      <td>0</td>\n",
       "      <td>1/01/2017 1:15</td>\n",
       "    </tr>\n",
       "    <tr>\n",
       "      <th>2</th>\n",
       "      <td>20374</td>\n",
       "      <td>1</td>\n",
       "      <td>19697</td>\n",
       "      <td>0</td>\n",
       "      <td>1/01/2017 2:39</td>\n",
       "    </tr>\n",
       "    <tr>\n",
       "      <th>3</th>\n",
       "      <td>20375</td>\n",
       "      <td>5</td>\n",
       "      <td>19691</td>\n",
       "      <td>1</td>\n",
       "      <td>1/01/2017 2:45</td>\n",
       "    </tr>\n",
       "    <tr>\n",
       "      <th>4</th>\n",
       "      <td>20377</td>\n",
       "      <td>2</td>\n",
       "      <td>19436</td>\n",
       "      <td>0</td>\n",
       "      <td>1/01/2017 3:15</td>\n",
       "    </tr>\n",
       "  </tbody>\n",
       "</table>\n",
       "</div>"
      ],
      "text/plain": [
       "      id  message_mode  user_id  read_status      added_date\n",
       "0  20363             2    19578            0  1/01/2017 0:15\n",
       "1  20368             2    19434            0  1/01/2017 1:15\n",
       "2  20374             1    19697            0  1/01/2017 2:39\n",
       "3  20375             5    19691            1  1/01/2017 2:45\n",
       "4  20377             2    19436            0  1/01/2017 3:15"
      ]
     },
     "execution_count": 5,
     "metadata": {},
     "output_type": "execute_result"
    }
   ],
   "source": [
    "df.head()"
   ]
  },
  {
   "cell_type": "code",
   "execution_count": 6,
   "id": "374e967e",
   "metadata": {},
   "outputs": [
    {
     "data": {
      "text/html": [
       "<div>\n",
       "<style scoped>\n",
       "    .dataframe tbody tr th:only-of-type {\n",
       "        vertical-align: middle;\n",
       "    }\n",
       "\n",
       "    .dataframe tbody tr th {\n",
       "        vertical-align: top;\n",
       "    }\n",
       "\n",
       "    .dataframe thead th {\n",
       "        text-align: right;\n",
       "    }\n",
       "</style>\n",
       "<table border=\"1\" class=\"dataframe\">\n",
       "  <thead>\n",
       "    <tr style=\"text-align: right;\">\n",
       "      <th></th>\n",
       "      <th>access_level</th>\n",
       "      <th>age</th>\n",
       "      <th>buy_now_clicked</th>\n",
       "      <th>buy_now_clicked_date</th>\n",
       "      <th>chosen_package</th>\n",
       "      <th>degree</th>\n",
       "      <th>gender</th>\n",
       "      <th>last_login</th>\n",
       "      <th>oauth_provider</th>\n",
       "      <th>registration_date</th>\n",
       "      <th>status</th>\n",
       "      <th>user_id</th>\n",
       "      <th>user_type</th>\n",
       "    </tr>\n",
       "  </thead>\n",
       "  <tbody>\n",
       "    <tr>\n",
       "      <th>0</th>\n",
       "      <td>0</td>\n",
       "      <td>NaN</td>\n",
       "      <td>0</td>\n",
       "      <td>0000-00-00 00:00:00</td>\n",
       "      <td>NaN</td>\n",
       "      <td>NaN</td>\n",
       "      <td>NaN</td>\n",
       "      <td>NaN</td>\n",
       "      <td>NaN</td>\n",
       "      <td>1/01/2017 1:16</td>\n",
       "      <td>1</td>\n",
       "      <td>19707</td>\n",
       "      <td>0</td>\n",
       "    </tr>\n",
       "    <tr>\n",
       "      <th>1</th>\n",
       "      <td>0</td>\n",
       "      <td>28</td>\n",
       "      <td>0</td>\n",
       "      <td>0000-00-00 00:00:00</td>\n",
       "      <td>NaN</td>\n",
       "      <td>Bachelors</td>\n",
       "      <td>Male</td>\n",
       "      <td>NaN</td>\n",
       "      <td>facebook</td>\n",
       "      <td>1/01/2017 4:39</td>\n",
       "      <td>1</td>\n",
       "      <td>19714</td>\n",
       "      <td>1</td>\n",
       "    </tr>\n",
       "    <tr>\n",
       "      <th>2</th>\n",
       "      <td>0</td>\n",
       "      <td>NaN</td>\n",
       "      <td>0</td>\n",
       "      <td>0000-00-00 00:00:00</td>\n",
       "      <td>NaN</td>\n",
       "      <td>NaN</td>\n",
       "      <td>Male</td>\n",
       "      <td>NaN</td>\n",
       "      <td>facebook</td>\n",
       "      <td>1/01/2017 5:55</td>\n",
       "      <td>1</td>\n",
       "      <td>19716</td>\n",
       "      <td>1</td>\n",
       "    </tr>\n",
       "    <tr>\n",
       "      <th>3</th>\n",
       "      <td>0</td>\n",
       "      <td>NaN</td>\n",
       "      <td>0</td>\n",
       "      <td>0000-00-00 00:00:00</td>\n",
       "      <td>NaN</td>\n",
       "      <td>NaN</td>\n",
       "      <td>Male</td>\n",
       "      <td>NaN</td>\n",
       "      <td>facebook</td>\n",
       "      <td>1/01/2017 8:22</td>\n",
       "      <td>1</td>\n",
       "      <td>19719</td>\n",
       "      <td>1</td>\n",
       "    </tr>\n",
       "    <tr>\n",
       "      <th>4</th>\n",
       "      <td>0</td>\n",
       "      <td>NaN</td>\n",
       "      <td>0</td>\n",
       "      <td>0000-00-00 00:00:00</td>\n",
       "      <td>NaN</td>\n",
       "      <td>NaN</td>\n",
       "      <td>Male</td>\n",
       "      <td>NaN</td>\n",
       "      <td>facebook</td>\n",
       "      <td>1/01/2017 9:10</td>\n",
       "      <td>1</td>\n",
       "      <td>19721</td>\n",
       "      <td>1</td>\n",
       "    </tr>\n",
       "  </tbody>\n",
       "</table>\n",
       "</div>"
      ],
      "text/plain": [
       "   access_level  age  buy_now_clicked buy_now_clicked_date chosen_package  \\\n",
       "0             0  NaN                0  0000-00-00 00:00:00            NaN   \n",
       "1             0   28                0  0000-00-00 00:00:00            NaN   \n",
       "2             0  NaN                0  0000-00-00 00:00:00            NaN   \n",
       "3             0  NaN                0  0000-00-00 00:00:00            NaN   \n",
       "4             0  NaN                0  0000-00-00 00:00:00            NaN   \n",
       "\n",
       "      degree gender  last_login oauth_provider registration_date  status  \\\n",
       "0        NaN    NaN         NaN            NaN    1/01/2017 1:16       1   \n",
       "1  Bachelors   Male         NaN       facebook    1/01/2017 4:39       1   \n",
       "2        NaN   Male         NaN       facebook    1/01/2017 5:55       1   \n",
       "3        NaN   Male         NaN       facebook    1/01/2017 8:22       1   \n",
       "4        NaN   Male         NaN       facebook    1/01/2017 9:10       1   \n",
       "\n",
       "   user_id  user_type  \n",
       "0    19707          0  \n",
       "1    19714          1  \n",
       "2    19716          1  \n",
       "3    19719          1  \n",
       "4    19721          1  "
      ]
     },
     "execution_count": 6,
     "metadata": {},
     "output_type": "execute_result"
    }
   ],
   "source": [
    "df1.head()"
   ]
  },
  {
   "cell_type": "code",
   "execution_count": 12,
   "id": "fe201ac9",
   "metadata": {},
   "outputs": [
    {
     "name": "stdout",
     "output_type": "stream",
     "text": [
      "Number of purchases caused by a notification: 45329\n"
     ]
    }
   ],
   "source": [
    "# Convert date columns to datetime\n",
    "notifications_df['added_date'] = pd.to_datetime(notifications_df['added_date'], format='%d/%m/%Y %H:%M')\n",
    "purchases_df['registration_date'] = pd.to_datetime(purchases_df['registration_date'], format='%d/%m/%Y %H:%M')\n",
    "\n",
    "# Merge notifications and purchases on user_id\n",
    "merged_df = pd.merge(notifications_df, purchases_df, on='user_id')\n",
    "\n",
    "# Filter the merged data to find purchases within 10 minutes of notifications\n",
    "def is_purchase_within_10_minutes(notification_time, purchase_time):\n",
    "    return purchase_time <= notification_time + timedelta(minutes=10)\n",
    "\n",
    "# Apply the function to filter relevant rows\n",
    "relevant_purchases = merged_df[merged_df.apply(lambda row: is_purchase_within_10_minutes(row['added_date'], row['registration_date']), axis=1)]\n",
    "\n",
    "# Count the number of relevant purchases\n",
    "num_relevant_purchases = relevant_purchases.shape[0]\n",
    "\n",
    "print(f\"Number of purchases caused by a notification: {num_relevant_purchases}\")"
   ]
  },
  {
   "cell_type": "code",
   "execution_count": 25,
   "id": "5539a301",
   "metadata": {},
   "outputs": [
    {
     "name": "stdout",
     "output_type": "stream",
     "text": [
      "Total acquisition cost in 2017: $16627.50\n",
      "Total acquisition cost in 2018: $17903.20\n",
      "Change in acquisition cost from 2017 to 2018: $1275.70\n"
     ]
    }
   ],
   "source": [
    "# Convert date columns to datetime\n",
    "notifications_df['added_date'] = pd.to_datetime(notifications_df['added_date'], format='%d/%m/%Y %H:%M')\n",
    "purchases_df['registration_date'] = pd.to_datetime(purchases_df['registration_date'], format='%d/%m/%Y %H:%M')\n",
    "\n",
    "# Extract year from registration_date\n",
    "purchases_df['year'] = purchases_df['registration_date'].dt.year\n",
    "\n",
    "# Count number of new users for each year\n",
    "user_counts = purchases_df['year'].value_counts()\n",
    "\n",
    "# Define acquisition costs\n",
    "acquisition_costs = {\n",
    "    2017: 2.50,\n",
    "    2018: 2.30\n",
    "}\n",
    "\n",
    "# Calculate total acquisition cost for each year\n",
    "total_acquisition_costs = {year: cost * user_counts.get(year, 0) for year, cost in acquisition_costs.items()}\n",
    "\n",
    "# Calculate change in acquisition costs\n",
    "change_in_acquisition_cost = total_acquisition_costs.get(2018, 0) - total_acquisition_costs.get(2017, 0)\n",
    "\n",
    "# Print results\n",
    "print(f\"Total acquisition cost in 2017: ${total_acquisition_costs.get(2017, 0):.2f}\")\n",
    "print(f\"Total acquisition cost in 2018: ${total_acquisition_costs.get(2018, 0):.2f}\")\n",
    "print(f\"Change in acquisition cost from 2017 to 2018: ${change_in_acquisition_cost:.2f}\")\n"
   ]
  },
  {
   "cell_type": "code",
   "execution_count": 23,
   "id": "9a5ac228",
   "metadata": {},
   "outputs": [],
   "source": [
    "user_notification_counts = notifications_df.groupby('user_id').size()\n",
    "\n",
    "# Calculate the median number of notifications\n",
    "median_notifications = user_notification_counts.median()"
   ]
  },
  {
   "cell_type": "code",
   "execution_count": 24,
   "id": "f0d8990d",
   "metadata": {},
   "outputs": [
    {
     "data": {
      "text/plain": [
       "3.0"
      ]
     },
     "execution_count": 24,
     "metadata": {},
     "output_type": "execute_result"
    }
   ],
   "source": [
    "median_notifications"
   ]
  },
  {
   "cell_type": "code",
   "execution_count": null,
   "id": "340fc7eb",
   "metadata": {},
   "outputs": [],
   "source": []
  }
 ],
 "metadata": {
  "kernelspec": {
   "display_name": "Python 3 (ipykernel)",
   "language": "python",
   "name": "python3"
  },
  "language_info": {
   "codemirror_mode": {
    "name": "ipython",
    "version": 3
   },
   "file_extension": ".py",
   "mimetype": "text/x-python",
   "name": "python",
   "nbconvert_exporter": "python",
   "pygments_lexer": "ipython3",
   "version": "3.11.5"
  }
 },
 "nbformat": 4,
 "nbformat_minor": 5
}
